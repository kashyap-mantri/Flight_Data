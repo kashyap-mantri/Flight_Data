{
 "cells": [
  {
   "cell_type": "code",
   "execution_count": 1,
   "metadata": {
    "collapsed": true
   },
   "outputs": [],
   "source": [
    "import numpy as np\n",
    "import pandas as pd\n",
    "import matplotlib.pyplot as plt\n",
    "import seaborn as sns\n",
    "% matplotlib inline\n",
    "\n",
    "from IPython.core.interactiveshell import InteractiveShell\n",
    "InteractiveShell.ast_node_interactivity = \"all\""
   ]
  },
  {
   "cell_type": "code",
   "execution_count": 59,
   "metadata": {
    "collapsed": true
   },
   "outputs": [],
   "source": [
    "df = pd.read_csv(\"flight_data.csv\")"
   ]
  },
  {
   "cell_type": "code",
   "execution_count": 7,
   "metadata": {
    "collapsed": false,
    "scrolled": true
   },
   "outputs": [
    {
     "name": "stdout",
     "output_type": "stream",
     "text": [
      "<class 'pandas.core.frame.DataFrame'>\n",
      "RangeIndex: 336776 entries, 0 to 336775\n",
      "Data columns (total 19 columns):\n",
      "year              336776 non-null int64\n",
      "month             336776 non-null int64\n",
      "day               336776 non-null int64\n",
      "dep_time          328521 non-null float64\n",
      "sched_dep_time    336776 non-null int64\n",
      "dep_delay         328521 non-null float64\n",
      "arr_time          328063 non-null float64\n",
      "sched_arr_time    336776 non-null int64\n",
      "arr_delay         327346 non-null float64\n",
      "carrier           336776 non-null object\n",
      "flight            336776 non-null int64\n",
      "tailnum           334264 non-null object\n",
      "origin            336776 non-null object\n",
      "dest              336776 non-null object\n",
      "air_time          327346 non-null float64\n",
      "distance          336776 non-null int64\n",
      "hour              336776 non-null int64\n",
      "minute            336776 non-null int64\n",
      "time_hour         336776 non-null object\n",
      "dtypes: float64(5), int64(9), object(5)\n",
      "memory usage: 48.8+ MB\n"
     ]
    }
   ],
   "source": [
    "df.info()\n",
    "# Columns having NULLs: dep_time, dep_delay, arr_time, arr_delay, tailnum, air_time, \n",
    "# These variables require cleanup"
   ]
  },
  {
   "cell_type": "code",
   "execution_count": 9,
   "metadata": {
    "collapsed": false,
    "scrolled": true
   },
   "outputs": [
    {
     "data": {
      "text/html": [
       "<div>\n",
       "<table border=\"1\" class=\"dataframe\">\n",
       "  <thead>\n",
       "    <tr style=\"text-align: right;\">\n",
       "      <th></th>\n",
       "      <th>year</th>\n",
       "      <th>month</th>\n",
       "      <th>day</th>\n",
       "      <th>dep_time</th>\n",
       "      <th>sched_dep_time</th>\n",
       "      <th>dep_delay</th>\n",
       "      <th>arr_time</th>\n",
       "      <th>sched_arr_time</th>\n",
       "      <th>arr_delay</th>\n",
       "      <th>carrier</th>\n",
       "      <th>flight</th>\n",
       "      <th>tailnum</th>\n",
       "      <th>origin</th>\n",
       "      <th>dest</th>\n",
       "      <th>air_time</th>\n",
       "      <th>distance</th>\n",
       "      <th>hour</th>\n",
       "      <th>minute</th>\n",
       "      <th>time_hour</th>\n",
       "    </tr>\n",
       "  </thead>\n",
       "  <tbody>\n",
       "    <tr>\n",
       "      <th>0</th>\n",
       "      <td>2013</td>\n",
       "      <td>1</td>\n",
       "      <td>1</td>\n",
       "      <td>517.0</td>\n",
       "      <td>515</td>\n",
       "      <td>2.0</td>\n",
       "      <td>830.0</td>\n",
       "      <td>819</td>\n",
       "      <td>11.0</td>\n",
       "      <td>UA</td>\n",
       "      <td>1545</td>\n",
       "      <td>N14228</td>\n",
       "      <td>EWR</td>\n",
       "      <td>IAH</td>\n",
       "      <td>227.0</td>\n",
       "      <td>1400</td>\n",
       "      <td>5</td>\n",
       "      <td>15</td>\n",
       "      <td>01-01-2013 05:00</td>\n",
       "    </tr>\n",
       "    <tr>\n",
       "      <th>1</th>\n",
       "      <td>2013</td>\n",
       "      <td>1</td>\n",
       "      <td>1</td>\n",
       "      <td>533.0</td>\n",
       "      <td>529</td>\n",
       "      <td>4.0</td>\n",
       "      <td>850.0</td>\n",
       "      <td>830</td>\n",
       "      <td>20.0</td>\n",
       "      <td>UA</td>\n",
       "      <td>1714</td>\n",
       "      <td>N24211</td>\n",
       "      <td>LGA</td>\n",
       "      <td>IAH</td>\n",
       "      <td>227.0</td>\n",
       "      <td>1416</td>\n",
       "      <td>5</td>\n",
       "      <td>29</td>\n",
       "      <td>01-01-2013 05:00</td>\n",
       "    </tr>\n",
       "    <tr>\n",
       "      <th>2</th>\n",
       "      <td>2013</td>\n",
       "      <td>1</td>\n",
       "      <td>1</td>\n",
       "      <td>542.0</td>\n",
       "      <td>540</td>\n",
       "      <td>2.0</td>\n",
       "      <td>923.0</td>\n",
       "      <td>850</td>\n",
       "      <td>33.0</td>\n",
       "      <td>AA</td>\n",
       "      <td>1141</td>\n",
       "      <td>N619AA</td>\n",
       "      <td>JFK</td>\n",
       "      <td>MIA</td>\n",
       "      <td>160.0</td>\n",
       "      <td>1089</td>\n",
       "      <td>5</td>\n",
       "      <td>40</td>\n",
       "      <td>01-01-2013 05:00</td>\n",
       "    </tr>\n",
       "    <tr>\n",
       "      <th>3</th>\n",
       "      <td>2013</td>\n",
       "      <td>1</td>\n",
       "      <td>1</td>\n",
       "      <td>544.0</td>\n",
       "      <td>545</td>\n",
       "      <td>-1.0</td>\n",
       "      <td>1004.0</td>\n",
       "      <td>1022</td>\n",
       "      <td>-18.0</td>\n",
       "      <td>B6</td>\n",
       "      <td>725</td>\n",
       "      <td>N804JB</td>\n",
       "      <td>JFK</td>\n",
       "      <td>BQN</td>\n",
       "      <td>183.0</td>\n",
       "      <td>1576</td>\n",
       "      <td>5</td>\n",
       "      <td>45</td>\n",
       "      <td>01-01-2013 05:00</td>\n",
       "    </tr>\n",
       "    <tr>\n",
       "      <th>4</th>\n",
       "      <td>2013</td>\n",
       "      <td>1</td>\n",
       "      <td>1</td>\n",
       "      <td>554.0</td>\n",
       "      <td>600</td>\n",
       "      <td>-6.0</td>\n",
       "      <td>812.0</td>\n",
       "      <td>837</td>\n",
       "      <td>-25.0</td>\n",
       "      <td>DL</td>\n",
       "      <td>461</td>\n",
       "      <td>N668DN</td>\n",
       "      <td>LGA</td>\n",
       "      <td>ATL</td>\n",
       "      <td>116.0</td>\n",
       "      <td>762</td>\n",
       "      <td>6</td>\n",
       "      <td>0</td>\n",
       "      <td>01-01-2013 06:00</td>\n",
       "    </tr>\n",
       "  </tbody>\n",
       "</table>\n",
       "</div>"
      ],
      "text/plain": [
       "   year  month  day  dep_time  sched_dep_time  dep_delay  arr_time  \\\n",
       "0  2013      1    1     517.0             515        2.0     830.0   \n",
       "1  2013      1    1     533.0             529        4.0     850.0   \n",
       "2  2013      1    1     542.0             540        2.0     923.0   \n",
       "3  2013      1    1     544.0             545       -1.0    1004.0   \n",
       "4  2013      1    1     554.0             600       -6.0     812.0   \n",
       "\n",
       "   sched_arr_time  arr_delay carrier  flight tailnum origin dest  air_time  \\\n",
       "0             819       11.0      UA    1545  N14228    EWR  IAH     227.0   \n",
       "1             830       20.0      UA    1714  N24211    LGA  IAH     227.0   \n",
       "2             850       33.0      AA    1141  N619AA    JFK  MIA     160.0   \n",
       "3            1022      -18.0      B6     725  N804JB    JFK  BQN     183.0   \n",
       "4             837      -25.0      DL     461  N668DN    LGA  ATL     116.0   \n",
       "\n",
       "   distance  hour  minute         time_hour  \n",
       "0      1400     5      15  01-01-2013 05:00  \n",
       "1      1416     5      29  01-01-2013 05:00  \n",
       "2      1089     5      40  01-01-2013 05:00  \n",
       "3      1576     5      45  01-01-2013 05:00  \n",
       "4       762     6       0  01-01-2013 06:00  "
      ]
     },
     "execution_count": 9,
     "metadata": {},
     "output_type": "execute_result"
    }
   ],
   "source": [
    "df.head()"
   ]
  },
  {
   "cell_type": "code",
   "execution_count": 10,
   "metadata": {
    "collapsed": false,
    "scrolled": false
   },
   "outputs": [
    {
     "data": {
      "text/html": [
       "<div>\n",
       "<table border=\"1\" class=\"dataframe\">\n",
       "  <thead>\n",
       "    <tr style=\"text-align: right;\">\n",
       "      <th></th>\n",
       "      <th>dep_delay</th>\n",
       "      <th>arr_delay</th>\n",
       "      <th>air_time</th>\n",
       "      <th>distance</th>\n",
       "    </tr>\n",
       "  </thead>\n",
       "  <tbody>\n",
       "    <tr>\n",
       "      <th>count</th>\n",
       "      <td>328521.000000</td>\n",
       "      <td>327346.000000</td>\n",
       "      <td>327346.000000</td>\n",
       "      <td>336776.000000</td>\n",
       "    </tr>\n",
       "    <tr>\n",
       "      <th>mean</th>\n",
       "      <td>12.639070</td>\n",
       "      <td>6.895377</td>\n",
       "      <td>150.686460</td>\n",
       "      <td>1039.912604</td>\n",
       "    </tr>\n",
       "    <tr>\n",
       "      <th>std</th>\n",
       "      <td>40.210061</td>\n",
       "      <td>44.633292</td>\n",
       "      <td>93.688305</td>\n",
       "      <td>733.233033</td>\n",
       "    </tr>\n",
       "    <tr>\n",
       "      <th>min</th>\n",
       "      <td>-43.000000</td>\n",
       "      <td>-86.000000</td>\n",
       "      <td>20.000000</td>\n",
       "      <td>17.000000</td>\n",
       "    </tr>\n",
       "    <tr>\n",
       "      <th>25%</th>\n",
       "      <td>-5.000000</td>\n",
       "      <td>-17.000000</td>\n",
       "      <td>82.000000</td>\n",
       "      <td>502.000000</td>\n",
       "    </tr>\n",
       "    <tr>\n",
       "      <th>50%</th>\n",
       "      <td>-2.000000</td>\n",
       "      <td>-5.000000</td>\n",
       "      <td>129.000000</td>\n",
       "      <td>872.000000</td>\n",
       "    </tr>\n",
       "    <tr>\n",
       "      <th>75%</th>\n",
       "      <td>11.000000</td>\n",
       "      <td>14.000000</td>\n",
       "      <td>192.000000</td>\n",
       "      <td>1389.000000</td>\n",
       "    </tr>\n",
       "    <tr>\n",
       "      <th>max</th>\n",
       "      <td>1301.000000</td>\n",
       "      <td>1272.000000</td>\n",
       "      <td>695.000000</td>\n",
       "      <td>4983.000000</td>\n",
       "    </tr>\n",
       "  </tbody>\n",
       "</table>\n",
       "</div>"
      ],
      "text/plain": [
       "           dep_delay      arr_delay       air_time       distance\n",
       "count  328521.000000  327346.000000  327346.000000  336776.000000\n",
       "mean       12.639070       6.895377     150.686460    1039.912604\n",
       "std        40.210061      44.633292      93.688305     733.233033\n",
       "min       -43.000000     -86.000000      20.000000      17.000000\n",
       "25%        -5.000000     -17.000000      82.000000     502.000000\n",
       "50%        -2.000000      -5.000000     129.000000     872.000000\n",
       "75%        11.000000      14.000000     192.000000    1389.000000\n",
       "max      1301.000000    1272.000000     695.000000    4983.000000"
      ]
     },
     "execution_count": 10,
     "metadata": {},
     "output_type": "execute_result"
    }
   ],
   "source": [
    "# Only dep_delay,arr_delay,air_time,distance are Numerical. \n",
    "# Rest are categorical, hence mean etc statistics won't matter for them.\n",
    "df.loc[:, [\"dep_delay\",\"arr_delay\",\"air_time\",\"distance\"] ].describe()"
   ]
  },
  {
   "cell_type": "code",
   "execution_count": 26,
   "metadata": {
    "collapsed": false,
    "scrolled": true
   },
   "outputs": [
    {
     "data": {
      "text/plain": [
       "(6936,)"
      ]
     },
     "execution_count": 26,
     "metadata": {},
     "output_type": "execute_result"
    },
    {
     "data": {
      "text/plain": [
       "13-09-2013 08:00    94\n",
       "20-09-2013 08:00    94\n",
       "09-09-2013 08:00    93\n",
       "23-09-2013 08:00    93\n",
       "16-09-2013 08:00    93\n",
       "Name: time_hour, dtype: int64"
      ]
     },
     "execution_count": 26,
     "metadata": {},
     "output_type": "execute_result"
    }
   ],
   "source": [
    "df[\"time_hour\"].value_counts().shape\n",
    "df[\"time_hour\"].value_counts()\n",
    "# Scheduled departure Slot: Date & Hour\n",
    "# Looks like Maximum flights are scheduled in 8 O'clock slot. \n",
    "#       But that may not be true for 1st half of year. Need more analysis. "
   ]
  },
  {
   "cell_type": "markdown",
   "metadata": {},
   "source": [
    "# Data Clean-Up\n",
    "\n",
    "## variables require cleanup: dep_time, dep_delay, arr_time, arr_delay, tailnum, air_time, \n",
    "\n",
    "## Phase-1:\n",
    "1. dep_time & dep_delay  : Availability of Any one (clubbed with sched_dep_time) can compute the other\n",
    "2. arr_time & arr_delay  : Availability of Any one (clubbed with sched_arr_time) can compute the other\n",
    "3. air_time, dep_time & arr_time  : Any two can compute third \n",
    "4. tailnum   : TBD"
   ]
  },
  {
   "cell_type": "markdown",
   "metadata": {
    "collapsed": true
   },
   "source": [
    "#### (1) dep_time & dep_delay : Availability of Any one (clubbed with sched_dep_time) can compute the other\n",
    "\n",
    " Confirm whether rows have value for at least one variable (out of dep_time & dep_delay)"
   ]
  },
  {
   "cell_type": "code",
   "execution_count": 7,
   "metadata": {
    "collapsed": false,
    "scrolled": true
   },
   "outputs": [
    {
     "data": {
      "text/plain": [
       "0"
      ]
     },
     "execution_count": 7,
     "metadata": {},
     "output_type": "execute_result"
    },
    {
     "data": {
      "text/plain": [
       "0"
      ]
     },
     "execution_count": 7,
     "metadata": {},
     "output_type": "execute_result"
    }
   ],
   "source": [
    "np.sum( df[\"dep_time\"].isnull() & df[\"dep_delay\"].notnull() )      # 0: So dep_time cannot be filled using dep_delay\n",
    "np.sum( df[\"dep_time\"].notnull() & df[\"dep_delay\"].isnull() )      # 0: So dep_delay cannot be filled using dep_time\n",
    "\n",
    "# So \"dep_time\" & \"dep_delay\" both are missing simultaneously"
   ]
  },
  {
   "cell_type": "markdown",
   "metadata": {},
   "source": [
    "#### (2) arr_time & arr_delay : Availability of Any one (clubbed with sched_arr_time) can compute the other\n",
    "\n",
    "Confirm whether rows have value for at least one variable (out of arr_time & arr_delay)"
   ]
  },
  {
   "cell_type": "code",
   "execution_count": 9,
   "metadata": {
    "collapsed": false,
    "scrolled": true
   },
   "outputs": [
    {
     "data": {
      "text/plain": [
       "0"
      ]
     },
     "execution_count": 9,
     "metadata": {},
     "output_type": "execute_result"
    },
    {
     "data": {
      "text/plain": [
       "717"
      ]
     },
     "execution_count": 9,
     "metadata": {},
     "output_type": "execute_result"
    }
   ],
   "source": [
    "np.sum( df[\"arr_time\"].isnull() & df[\"arr_delay\"].notnull() )      #   0: So arr_time cannot be filled using arr_delay\n",
    "np.sum( df[\"arr_time\"].notnull() & df[\"arr_delay\"].isnull() )      # 717: So 717 arr_delay can be filled using arr_time"
   ]
  },
  {
   "cell_type": "code",
   "execution_count": 42,
   "metadata": {
    "collapsed": true
   },
   "outputs": [],
   "source": [
    "def HHMM_to_Minutes(HHMM):\n",
    "    return (HHMM//100) * 60 + (HHMM%100)\n",
    "\n",
    "def HHMM_diff_inMinutes(x1 , x2, ref):\n",
    "    \"\"\" Perform x1-x2    (both are in HHMM format)\n",
    "        But what-if date changes? (x1-x2) will be big +ve or big -ve.\n",
    "        Compare (x1-x2) with \"ref\" to check whether big is really invalid. If so, do correction.\"\"\"\n",
    "    x_diff = HHMM_to_Minutes(x1) - HHMM_to_Minutes(x2)\n",
    "    # If date changes, this will become large -ve or +ve which is not correct. Correct below\n",
    "    abs(x_diff - ref).hist()    # 23 hrs of deviation found, which is anomaly & indicative of date change\n",
    "    anomaly_neg = (  (x_diff - ref) < -600  )\n",
    "    x_diff[anomaly_neg] += 1440\n",
    "\n",
    "    anomaly_postiv = (    (x_diff - ref) > 600  )\n",
    "    x_diff[anomaly_postiv] -= 1440\n",
    "\n",
    "    x_diff.describe()\n",
    "    return x_diff\n"
   ]
  },
  {
   "cell_type": "code",
   "execution_count": 43,
   "metadata": {
    "collapsed": false
   },
   "outputs": [
    {
     "data": {
      "text/plain": [
       "count    328063.000000\n",
       "mean          7.254738\n",
       "std          45.444558\n",
       "min        -322.000000\n",
       "25%         -17.000000\n",
       "50%          -5.000000\n",
       "75%          14.000000\n",
       "max        1272.000000\n",
       "dtype: float64"
      ]
     },
     "execution_count": 43,
     "metadata": {},
     "output_type": "execute_result"
    },
    {
     "data": {
      "image/png": "[encoded data removed]",
      "text/plain": [
       "<matplotlib.figure.Figure at 0x1d7271172e8>"
      ]
     },
     "metadata": {},
     "output_type": "display_data"
    }
   ],
   "source": [
    "arr_delay_toFILL = HHMM_diff_inMinutes(df.arr_time, df.sched_arr_time, ref=df[\"dep_delay\"])\n",
    "arr_delay_toFILL.describe()"
   ]
  },
  {
   "cell_type": "code",
   "execution_count": 44,
   "metadata": {
    "collapsed": false,
    "scrolled": true
   },
   "outputs": [],
   "source": [
    "# Let's fill 717 arr_delay using arr_time\n",
    "only_arr_time = df.arr_time.notnull() & df.arr_delay.isnull()\n",
    "df.loc[only_arr_time, \"arr_delay\"] = arr_delay_toFILL[only_arr_time]"
   ]
  },
  {
   "cell_type": "markdown",
   "metadata": {},
   "source": [
    "#### (3) air_time, dep_time & arr_time : Any two can compute third\n",
    "\n"
   ]
  },
  {
   "cell_type": "markdown",
   "metadata": {},
   "source": [
    "Find rows having any two out of ( arr_time, dep_time, air_time)"
   ]
  },
  {
   "cell_type": "code",
   "execution_count": 51,
   "metadata": {
    "collapsed": false,
    "scrolled": true
   },
   "outputs": [
    {
     "data": {
      "text/plain": [
       "0"
      ]
     },
     "execution_count": 51,
     "metadata": {},
     "output_type": "execute_result"
    },
    {
     "data": {
      "text/plain": [
       "0"
      ]
     },
     "execution_count": 51,
     "metadata": {},
     "output_type": "execute_result"
    },
    {
     "data": {
      "text/plain": [
       "717"
      ]
     },
     "execution_count": 51,
     "metadata": {},
     "output_type": "execute_result"
    }
   ],
   "source": [
    "np.sum( df[\"arr_time\"].isnull() & df[\"dep_time\"].notnull() & df[\"air_time\"].notnull() )  # 0: So arr_time cannot be filled\n",
    "np.sum( df[\"arr_time\"].notnull() & df[\"dep_time\"].isnull() & df[\"air_time\"].notnull() )  # 0: So dep_time cannot be filled\n",
    "np.sum( df[\"arr_time\"].notnull() & df[\"dep_time\"].notnull() & df[\"air_time\"].isnull() )  # 717: So air_time can be filled"
   ]
  },
  {
   "cell_type": "code",
   "execution_count": 56,
   "metadata": {
    "collapsed": false
   },
   "outputs": [
    {
     "data": {
      "text/plain": [
       "count    328063.000000\n",
       "mean         91.004356\n",
       "std         253.830350\n",
       "min       -1401.000000\n",
       "25%          91.000000\n",
       "50%         133.000000\n",
       "75%         172.000000\n",
       "max         690.000000\n",
       "dtype: float64"
      ]
     },
     "execution_count": 56,
     "metadata": {},
     "output_type": "execute_result"
    }
   ],
   "source": [
    "air_time_toFILL = HHMM_to_Minutes(df.arr_time) - HHMM_to_Minutes(df.dep_time)\n",
    "air_time_toFILL.describe()    # -ve found\n",
    "air_time_toFILL[ air_time_toFILL < 0 ] += 1440\n",
    "#air_time_toFILL.describe()    # -ve is removed now"
   ]
  },
  {
   "cell_type": "code",
   "execution_count": 60,
   "metadata": {
    "collapsed": false
   },
   "outputs": [
    {
     "data": {
      "text/plain": [
       "count    328063.000000\n",
       "mean        151.029805\n",
       "std          93.966221\n",
       "min          20.000000\n",
       "25%          82.000000\n",
       "50%         130.000000\n",
       "75%         192.000000\n",
       "max        1165.000000\n",
       "Name: air_time, dtype: float64"
      ]
     },
     "execution_count": 60,
     "metadata": {},
     "output_type": "execute_result"
    }
   ],
   "source": [
    "# Fill 717 air_time missing records\n",
    "both_vars = df.arr_time.notnull() & df.dep_time.notnull() & df.air_time.isnull()\n",
    "df.loc[both_vars, \"air_time\"] = air_time_toFILL[both_vars]\n",
    "\n",
    "df.air_time.describe()"
   ]
  },
  {
   "cell_type": "code",
   "execution_count": null,
   "metadata": {
    "collapsed": true
   },
   "outputs": [],
   "source": []
  }
 ],
 "metadata": {
  "kernelspec": {
   "display_name": "Python 3",
   "language": "python",
   "name": "python3"
  },
  "language_info": {
   "codemirror_mode": {
    "name": "ipython",
    "version": 3
   },
   "file_extension": ".py",
   "mimetype": "text/x-python",
   "name": "python",
   "nbconvert_exporter": "python",
   "pygments_lexer": "ipython3",
   "version": "3.6.0"
  }
 },
 "nbformat": 4,
 "nbformat_minor": 2
}
